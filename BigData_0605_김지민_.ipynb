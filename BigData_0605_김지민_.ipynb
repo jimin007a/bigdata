{
  "nbformat": 4,
  "nbformat_minor": 0,
  "metadata": {
    "colab": {
      "provenance": [],
      "authorship_tag": "ABX9TyOF8i8vi/ZC/d3safNLuwC6",
      "include_colab_link": true
    },
    "kernelspec": {
      "name": "python3",
      "display_name": "Python 3"
    },
    "language_info": {
      "name": "python"
    }
  },
  "cells": [
    {
      "cell_type": "markdown",
      "metadata": {
        "id": "view-in-github",
        "colab_type": "text"
      },
      "source": [
        "<a href=\"https://colab.research.google.com/github/jimin007a/bigdata/blob/main/BigData_0605_%EA%B9%80%EC%A7%80%EB%AF%BC_.ipynb\" target=\"_parent\"><img src=\"https://colab.research.google.com/assets/colab-badge.svg\" alt=\"Open In Colab\"/></a>"
      ]
    },
    {
      "cell_type": "code",
      "execution_count": null,
      "metadata": {
        "colab": {
          "base_uri": "https://localhost:8080/"
        },
        "id": "tevwLUVCSTuC",
        "outputId": "5df853df-2c4f-4f26-9a9d-0c19bb992bd7"
      },
      "outputs": [
        {
          "output_type": "stream",
          "name": "stdout",
          "text": [
            "-10.0 92.5\n",
            "IQR: 102.5\n",
            "upper outlier step: -163.75\n",
            "lower outlier step: 246.25\n",
            "lower outliers: []\n",
            "upper outliers: [10000]\n"
          ]
        }
      ],
      "source": [
        "import numpy as np\n",
        "value = np.array([100, -30, 50, 70, -90, 10000])\n",
        "Q1 = np.percentile(value, 25)\n",
        "Q3 = np.percentile(value, 75)\n",
        "print(Q1,Q3)\n",
        "IQR = Q3 - Q1\n",
        "print('IQR:', IQR)\n",
        "\n",
        "outlier_step = 1.5 * IQR\n",
        "print('upper outlier step:', Q1 - outlier_step)\n",
        "print('lower outlier step:', Q3 + outlier_step)\n",
        "\n",
        "lower_outliers = value[value < Q1 - outlier_step]\n",
        "upper_outliers = value[value > Q3 + outlier_step]\n",
        "print('lower outliers:', lower_outliers)\n",
        "print('upper outliers:', upper_outliers)"
      ]
    },
    {
      "cell_type": "code",
      "source": [
        "  #NA: 컴퓨터 접근 불가  -np.nan\n",
        "  #NULL: 비워져있음 (지금 사용안함)\n",
        "  #다중공선성: 여러개의 컬럼이 선형이 있는가"
      ],
      "metadata": {
        "id": "h3MTNSl_UVDg"
      },
      "execution_count": null,
      "outputs": []
    }
  ]
}