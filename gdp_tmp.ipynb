{
  "nbformat": 4,
  "nbformat_minor": 0,
  "metadata": {
    "colab": {
      "provenance": [],
      "mount_file_id": "1t8BulWyaGKSB-DNfKGC5UjFDZMCoN0tz",
      "authorship_tag": "ABX9TyOx5+4hjq06PgWTPIzmR7EG",
      "include_colab_link": true
    },
    "kernelspec": {
      "name": "python3",
      "display_name": "Python 3"
    },
    "language_info": {
      "name": "python"
    }
  },
  "cells": [
    {
      "cell_type": "markdown",
      "metadata": {
        "id": "view-in-github",
        "colab_type": "text"
      },
      "source": [
        "<a href=\"https://colab.research.google.com/github/jimin007a/bigdata/blob/main/gdp_tmp.ipynb\" target=\"_parent\"><img src=\"https://colab.research.google.com/assets/colab-badge.svg\" alt=\"Open In Colab\"/></a>"
      ]
    },
    {
      "cell_type": "code",
      "execution_count": null,
      "metadata": {
        "id": "tWr-f8-KxWKm"
      },
      "outputs": [],
      "source": [
        "key1 = ['엄마','아빠','나','동생']\n",
        "key2 = ['삼촌','나','동생','이모']\n",
        "val1 = [5,3,1,2]\n",
        "val2 = [3,4,6,3]"
      ]
    },
    {
      "cell_type": "code",
      "source": [
        "import pandas as pd\n",
        "df1 = pd.DataFrame([key1, val1]).T\n",
        "print(df1)"
      ],
      "metadata": {
        "colab": {
          "base_uri": "https://localhost:8080/"
        },
        "id": "-Ahfq63ByKey",
        "outputId": "f94a92d9-6261-4943-8979-b135506b431b"
      },
      "execution_count": null,
      "outputs": [
        {
          "output_type": "stream",
          "name": "stdout",
          "text": [
            "    0  1\n",
            "0  엄마  5\n",
            "1  아빠  3\n",
            "2   나  1\n",
            "3  동생  2\n"
          ]
        }
      ]
    },
    {
      "cell_type": "code",
      "source": [
        "df1.columns = ['key','사과']\n",
        "print(df1)"
      ],
      "metadata": {
        "colab": {
          "base_uri": "https://localhost:8080/"
        },
        "id": "zMPpNFENzv-3",
        "outputId": "209a19aa-be1b-4bcf-d447-251e4879bb7f"
      },
      "execution_count": null,
      "outputs": [
        {
          "output_type": "stream",
          "name": "stdout",
          "text": [
            "  key 사과\n",
            "0  엄마  5\n",
            "1  아빠  3\n",
            "2   나  1\n",
            "3  동생  2\n"
          ]
        }
      ]
    },
    {
      "cell_type": "code",
      "source": [
        "df1 = df1.set_index('key')\n",
        "print(df1)"
      ],
      "metadata": {
        "colab": {
          "base_uri": "https://localhost:8080/"
        },
        "id": "OISaH8Wez3Wf",
        "outputId": "dc5a36b9-e67f-4450-bfec-ea044763efd5"
      },
      "execution_count": null,
      "outputs": [
        {
          "output_type": "stream",
          "name": "stdout",
          "text": [
            "    사과\n",
            "key   \n",
            "엄마   5\n",
            "아빠   3\n",
            "나    1\n",
            "동생   2\n"
          ]
        }
      ]
    },
    {
      "cell_type": "code",
      "source": [
        "df2 = pd.DataFrame([key2, val2]).T\n",
        "df2.columns = ['key', '바나나']\n",
        "df2 = df2.set_index('key')\n",
        "print(df2)"
      ],
      "metadata": {
        "colab": {
          "base_uri": "https://localhost:8080/"
        },
        "id": "zahXLZ0Pz_ZT",
        "outputId": "09d384c1-d13b-45e3-8969-697d92ca4b92"
      },
      "execution_count": null,
      "outputs": [
        {
          "output_type": "stream",
          "name": "stdout",
          "text": [
            "    바나나\n",
            "key    \n",
            "삼촌    3\n",
            "나     4\n",
            "동생    6\n",
            "이모    3\n"
          ]
        }
      ]
    },
    {
      "cell_type": "code",
      "source": [
        "df_ = pd.concat([df1,df2], axis = 1)\n",
        "print(df_)"
      ],
      "metadata": {
        "colab": {
          "base_uri": "https://localhost:8080/"
        },
        "id": "_qQEKRMc0FLf",
        "outputId": "217db146-866a-46ad-f323-7673e6aebcda"
      },
      "execution_count": null,
      "outputs": [
        {
          "output_type": "stream",
          "name": "stdout",
          "text": [
            "      사과  바나나\n",
            "key          \n",
            "엄마     5  NaN\n",
            "아빠     3  NaN\n",
            "나      1    4\n",
            "동생     2    6\n",
            "삼촌   NaN    3\n",
            "이모   NaN    3\n"
          ]
        }
      ]
    },
    {
      "cell_type": "code",
      "source": [
        "df_ = pd.concat([df1,df2], axis = 0)\n",
        "print(df_)"
      ],
      "metadata": {
        "colab": {
          "base_uri": "https://localhost:8080/"
        },
        "id": "9aSxv6zy0Tlv",
        "outputId": "5988a171-3ab4-4299-85e3-b1606ede3821"
      },
      "execution_count": null,
      "outputs": [
        {
          "output_type": "stream",
          "name": "stdout",
          "text": [
            "      사과  바나나\n",
            "key          \n",
            "엄마     5  NaN\n",
            "아빠     3  NaN\n",
            "나      1  NaN\n",
            "동생     2  NaN\n",
            "삼촌   NaN    3\n",
            "나    NaN    4\n",
            "동생   NaN    6\n",
            "이모   NaN    3\n"
          ]
        }
      ]
    },
    {
      "cell_type": "code",
      "source": [
        "df_ = pd.concat([df1,df2], axis = 0)\n",
        "print(df_.groupby(df_.index).sum())"
      ],
      "metadata": {
        "colab": {
          "base_uri": "https://localhost:8080/"
        },
        "id": "CHr5bUwv07sA",
        "outputId": "1b269057-6ff3-4d4b-eb86-f91658ad8147"
      },
      "execution_count": null,
      "outputs": [
        {
          "output_type": "stream",
          "name": "stdout",
          "text": [
            "     사과  바나나\n",
            "key         \n",
            "나     1    4\n",
            "동생    2    6\n",
            "삼촌    0    3\n",
            "아빠    3    0\n",
            "엄마    5    0\n",
            "이모    0    3\n"
          ]
        }
      ]
    },
    {
      "cell_type": "code",
      "source": [
        "import pandas as pd\n",
        "tmp = pd.read_csv('/content/drive/MyDrive/graph.csv',sep = ',')\n",
        "gdp = pd.read_csv('/content/drive/MyDrive/복사본 API_NY.GDP.MKTP.CD_DS2_en_csv_v2_5358352.csv',sep = ',')\n",
        "print(tmp.head())"
      ],
      "metadata": {
        "colab": {
          "base_uri": "https://localhost:8080/"
        },
        "id": "qS4ruhZu-zw9",
        "outputId": "8db0dbca-8810-48cd-e69e-ea95ff927ab9"
      },
      "execution_count": 1,
      "outputs": [
        {
          "output_type": "stream",
          "name": "stdout",
          "text": [
            "   1880  -0.17  -0.09\n",
            "0  1881  -0.08  -0.13\n",
            "1  1882  -0.11  -0.17\n",
            "2  1883  -0.17  -0.20\n",
            "3  1884  -0.28  -0.24\n",
            "4  1885  -0.33  -0.26\n"
          ]
        }
      ]
    },
    {
      "cell_type": "code",
      "source": [
        "print(gdp.head())"
      ],
      "metadata": {
        "colab": {
          "base_uri": "https://localhost:8080/"
        },
        "id": "JHlGw24dAHyu",
        "outputId": "233a72be-6504-4d0b-fb79-5683a79f8470"
      },
      "execution_count": 2,
      "outputs": [
        {
          "output_type": "stream",
          "name": "stdout",
          "text": [
            "                  Country Name Country Code     Indicator Name  \\\n",
            "0                        Aruba          ABW  GDP (current US$)   \n",
            "1  Africa Eastern and Southern          AFE  GDP (current US$)   \n",
            "2                  Afghanistan          AFG  GDP (current US$)   \n",
            "3   Africa Western and Central          AFW  GDP (current US$)   \n",
            "4                       Angola          AGO  GDP (current US$)   \n",
            "\n",
            "   Indicator Code          1960          1961          1962          1963  \\\n",
            "0  NY.GDP.MKTP.CD           NaN           NaN           NaN           NaN   \n",
            "1  NY.GDP.MKTP.CD  2.129150e+10  2.180940e+10  2.370810e+10  2.821130e+10   \n",
            "2  NY.GDP.MKTP.CD  5.377778e+08  5.488889e+08  5.466667e+08  7.511112e+08   \n",
            "3  NY.GDP.MKTP.CD  1.040410e+10  1.112790e+10  1.194320e+10  1.267630e+10   \n",
            "4  NY.GDP.MKTP.CD           NaN           NaN           NaN           NaN   \n",
            "\n",
            "           1964          1965  ...          2012          2013          2014  \\\n",
            "0           NaN           NaN  ...  2.615084e+09  2.727933e+09  2.791061e+09   \n",
            "1  2.611990e+10  2.968350e+10  ...  9.720020e+11  9.826770e+11  1.003400e+12   \n",
            "2  8.000000e+08  1.006667e+09  ...  2.020360e+10  2.056450e+10  2.055060e+10   \n",
            "3  1.383840e+10  1.486220e+10  ...  7.360400e+11  8.322170e+11  8.924980e+11   \n",
            "4           NaN           NaN  ...  1.249980e+11  1.334020e+11  1.372440e+11   \n",
            "\n",
            "           2015          2016          2017          2018          2019  \\\n",
            "0  2.963128e+09  2.983799e+09  3.092179e+09  3.202235e+09  3.368970e+09   \n",
            "1  9.231440e+11  8.898590e+11  1.030480e+12  1.016700e+12  1.009050e+12   \n",
            "2  1.999820e+10  1.801960e+10  1.889640e+10  1.841880e+10  1.890450e+10   \n",
            "3  7.669580e+11  6.905450e+11  6.837480e+11  7.663600e+11  7.947190e+11   \n",
            "4  8.721930e+10  4.984050e+10  6.897280e+10  7.779290e+10  6.930910e+10   \n",
            "\n",
            "           2020          2021  \n",
            "0  2.610039e+09  3.126019e+09  \n",
            "1  9.341790e+11  1.089450e+12  \n",
            "2  2.014340e+10  1.478690e+10  \n",
            "3  7.848000e+11  8.401870e+11  \n",
            "4  5.361910e+10  6.740430e+10  \n",
            "\n",
            "[5 rows x 66 columns]\n"
          ]
        }
      ]
    },
    {
      "cell_type": "code",
      "source": [
        "tmp.info()"
      ],
      "metadata": {
        "colab": {
          "base_uri": "https://localhost:8080/"
        },
        "id": "HKKmXTOZzEju",
        "outputId": "4c6f31bc-4c2d-4909-b27c-fc9eb49a2c6c"
      },
      "execution_count": 3,
      "outputs": [
        {
          "output_type": "stream",
          "name": "stdout",
          "text": [
            "<class 'pandas.core.frame.DataFrame'>\n",
            "RangeIndex: 142 entries, 0 to 141\n",
            "Data columns (total 3 columns):\n",
            " #   Column  Non-Null Count  Dtype  \n",
            "---  ------  --------------  -----  \n",
            " 0   1880    142 non-null    int64  \n",
            " 1   -0.17   142 non-null    float64\n",
            " 2   -0.09   142 non-null    float64\n",
            "dtypes: float64(2), int64(1)\n",
            "memory usage: 3.5 KB\n"
          ]
        }
      ]
    },
    {
      "cell_type": "code",
      "source": [
        "gdp.info()"
      ],
      "metadata": {
        "colab": {
          "base_uri": "https://localhost:8080/"
        },
        "id": "vydtlTrPzWJW",
        "outputId": "d64b08cf-c203-4444-a732-4831be385e0e"
      },
      "execution_count": 4,
      "outputs": [
        {
          "output_type": "stream",
          "name": "stdout",
          "text": [
            "<class 'pandas.core.frame.DataFrame'>\n",
            "RangeIndex: 266 entries, 0 to 265\n",
            "Data columns (total 66 columns):\n",
            " #   Column          Non-Null Count  Dtype  \n",
            "---  ------          --------------  -----  \n",
            " 0   Country Name    266 non-null    object \n",
            " 1   Country Code    266 non-null    object \n",
            " 2   Indicator Name  266 non-null    object \n",
            " 3   Indicator Code  266 non-null    object \n",
            " 4   1960            134 non-null    float64\n",
            " 5   1961            136 non-null    float64\n",
            " 6   1962            138 non-null    float64\n",
            " 7   1963            138 non-null    float64\n",
            " 8   1964            138 non-null    float64\n",
            " 9   1965            149 non-null    float64\n",
            " 10  1966            152 non-null    float64\n",
            " 11  1967            155 non-null    float64\n",
            " 12  1968            160 non-null    float64\n",
            " 13  1969            160 non-null    float64\n",
            " 14  1970            169 non-null    float64\n",
            " 15  1971            172 non-null    float64\n",
            " 16  1972            172 non-null    float64\n",
            " 17  1973            172 non-null    float64\n",
            " 18  1974            173 non-null    float64\n",
            " 19  1975            175 non-null    float64\n",
            " 20  1976            176 non-null    float64\n",
            " 21  1977            179 non-null    float64\n",
            " 22  1978            178 non-null    float64\n",
            " 23  1979            179 non-null    float64\n",
            " 24  1980            191 non-null    float64\n",
            " 25  1981            194 non-null    float64\n",
            " 26  1982            195 non-null    float64\n",
            " 27  1983            196 non-null    float64\n",
            " 28  1984            197 non-null    float64\n",
            " 29  1985            199 non-null    float64\n",
            " 30  1986            201 non-null    float64\n",
            " 31  1987            205 non-null    float64\n",
            " 32  1988            210 non-null    float64\n",
            " 33  1989            210 non-null    float64\n",
            " 34  1990            226 non-null    float64\n",
            " 35  1991            226 non-null    float64\n",
            " 36  1992            227 non-null    float64\n",
            " 37  1993            229 non-null    float64\n",
            " 38  1994            231 non-null    float64\n",
            " 39  1995            240 non-null    float64\n",
            " 40  1996            240 non-null    float64\n",
            " 41  1997            240 non-null    float64\n",
            " 42  1998            242 non-null    float64\n",
            " 43  1999            243 non-null    float64\n",
            " 44  2000            247 non-null    float64\n",
            " 45  2001            249 non-null    float64\n",
            " 46  2002            254 non-null    float64\n",
            " 47  2003            254 non-null    float64\n",
            " 48  2004            254 non-null    float64\n",
            " 49  2005            254 non-null    float64\n",
            " 50  2006            255 non-null    float64\n",
            " 51  2007            255 non-null    float64\n",
            " 52  2008            256 non-null    float64\n",
            " 53  2009            256 non-null    float64\n",
            " 54  2010            257 non-null    float64\n",
            " 55  2011            260 non-null    float64\n",
            " 56  2012            258 non-null    float64\n",
            " 57  2013            259 non-null    float64\n",
            " 58  2014            260 non-null    float64\n",
            " 59  2015            258 non-null    float64\n",
            " 60  2016            257 non-null    float64\n",
            " 61  2017            257 non-null    float64\n",
            " 62  2018            257 non-null    float64\n",
            " 63  2019            255 non-null    float64\n",
            " 64  2020            252 non-null    float64\n",
            " 65  2021            245 non-null    float64\n",
            "dtypes: float64(62), object(4)\n",
            "memory usage: 137.3+ KB\n"
          ]
        }
      ]
    },
    {
      "cell_type": "code",
      "source": [
        "gdp_sum = gdp.sum(axis = 0)\n",
        "print(gdp_sum)"
      ],
      "metadata": {
        "colab": {
          "base_uri": "https://localhost:8080/"
        },
        "id": "NCWdUosozq1u",
        "outputId": "2131a36b-3b27-4a20-e86a-1b699acaca4c"
      },
      "execution_count": 38,
      "outputs": [
        {
          "output_type": "stream",
          "name": "stdout",
          "text": [
            "Country Name      ArubaAfrica Eastern and SouthernAfghanistanAfr...\n",
            "Country Code      ABWAFEAFGAFWAGOALBANDARBAREARGARMASMATGAUSAUTA...\n",
            "Indicator Name    GDP (current US$)GDP (current US$)GDP (current...\n",
            "Indicator Code    NY.GDP.MKTP.CDNY.GDP.MKTP.CDNY.GDP.MKTP.CDNY.G...\n",
            "1960                                           9518432021034.720703\n",
            "                                        ...                        \n",
            "2017                                             673319593022841.75\n",
            "2018                                            715369906175107.875\n",
            "2019                                              725547439367939.0\n",
            "2020                                             703154445622073.75\n",
            "2021                                             802770879405363.75\n",
            "Length: 66, dtype: object\n"
          ]
        }
      ]
    },
    {
      "cell_type": "code",
      "source": [
        "gdp_sum = gdp_sum[4:]"
      ],
      "metadata": {
        "id": "WxTkt_vV0eh2"
      },
      "execution_count": 39,
      "outputs": []
    },
    {
      "cell_type": "code",
      "source": [
        "print(gdp_sum)"
      ],
      "metadata": {
        "colab": {
          "base_uri": "https://localhost:8080/"
        },
        "id": "kqrIBuTI0-m1",
        "outputId": "70272480-c204-4b94-dfd5-c2aa64c43d9b"
      },
      "execution_count": 40,
      "outputs": [
        {
          "output_type": "stream",
          "name": "stdout",
          "text": [
            "1960     9518432021034.720703\n",
            "1961     9773783201397.189453\n",
            "1962    10418785097216.972656\n",
            "1963    11239384846406.808594\n",
            "1964    12339126712292.759766\n",
            "                ...          \n",
            "2017       673319593022841.75\n",
            "2018      715369906175107.875\n",
            "2019        725547439367939.0\n",
            "2020       703154445622073.75\n",
            "2021       802770879405363.75\n",
            "Length: 62, dtype: object\n"
          ]
        }
      ]
    },
    {
      "cell_type": "code",
      "source": [
        "gdp_df = pd.DataFrame(gdp_sum)\n",
        "gdp_df.columns = ['gdp']\n",
        "gdp_df= gdp_df.reset_index()\n",
        "gdp_df.info()\n",
        "gdp_df.index = gdp_df.index.astype('int')\n",
        "gdp_df.gdp = gdp_df.gdp.astype('float')\n",
        "gdp_df.columns = ['year', 'gdp']\n",
        "gdp_df.info()\n",
        "gdp_df = gdp_df.set_index('year')"
      ],
      "metadata": {
        "colab": {
          "base_uri": "https://localhost:8080/"
        },
        "id": "EEQ5ljgL1E-F",
        "outputId": "f274b9fc-d019-4adf-ee9f-27f77df2aece"
      },
      "execution_count": 41,
      "outputs": [
        {
          "output_type": "stream",
          "name": "stdout",
          "text": [
            "<class 'pandas.core.frame.DataFrame'>\n",
            "RangeIndex: 62 entries, 0 to 61\n",
            "Data columns (total 2 columns):\n",
            " #   Column  Non-Null Count  Dtype \n",
            "---  ------  --------------  ----- \n",
            " 0   index   62 non-null     object\n",
            " 1   gdp     62 non-null     object\n",
            "dtypes: object(2)\n",
            "memory usage: 1.1+ KB\n",
            "<class 'pandas.core.frame.DataFrame'>\n",
            "RangeIndex: 62 entries, 0 to 61\n",
            "Data columns (total 2 columns):\n",
            " #   Column  Non-Null Count  Dtype  \n",
            "---  ------  --------------  -----  \n",
            " 0   year    62 non-null     object \n",
            " 1   gdp     62 non-null     float64\n",
            "dtypes: float64(1), object(1)\n",
            "memory usage: 1.1+ KB\n"
          ]
        }
      ]
    },
    {
      "cell_type": "code",
      "source": [
        "print(gdp_df)"
      ],
      "metadata": {
        "colab": {
          "base_uri": "https://localhost:8080/"
        },
        "id": "mzXXGSrr1UMt",
        "outputId": "18a7a039-b34c-4e99-c79e-772e227c5fd5"
      },
      "execution_count": 42,
      "outputs": [
        {
          "output_type": "stream",
          "name": "stdout",
          "text": [
            "               gdp\n",
            "year              \n",
            "1960  9.518432e+12\n",
            "1961  9.773783e+12\n",
            "1962  1.041879e+13\n",
            "1963  1.123938e+13\n",
            "1964  1.233913e+13\n",
            "...            ...\n",
            "2017  6.733196e+14\n",
            "2018  7.153699e+14\n",
            "2019  7.255474e+14\n",
            "2020  7.031544e+14\n",
            "2021  8.027709e+14\n",
            "\n",
            "[62 rows x 1 columns]\n"
          ]
        }
      ]
    },
    {
      "cell_type": "code",
      "source": [],
      "metadata": {
        "id": "XqATjQhR4pbp"
      },
      "execution_count": null,
      "outputs": []
    },
    {
      "cell_type": "code",
      "source": [],
      "metadata": {
        "id": "GcX8aZHL1b11"
      },
      "execution_count": 14,
      "outputs": []
    },
    {
      "cell_type": "code",
      "source": [
        "tmp_gdp=pd.concat([tmp,gdp_df],axis = 1)\n",
        "print(tmp_gdp)"
      ],
      "metadata": {
        "colab": {
          "base_uri": "https://localhost:8080/"
        },
        "id": "MBOGeX4P2H8H",
        "outputId": "d5c1fcd7-6a69-4ae0-ae7d-6c3c07091c1e"
      },
      "execution_count": 43,
      "outputs": [
        {
          "output_type": "stream",
          "name": "stdout",
          "text": [
            "      tmp1  tmp2           gdp\n",
            "year                          \n",
            "1881 -0.08 -0.13           NaN\n",
            "1882 -0.11 -0.17           NaN\n",
            "1883 -0.17 -0.20           NaN\n",
            "1884 -0.28 -0.24           NaN\n",
            "1885 -0.33 -0.26           NaN\n",
            "...    ...   ...           ...\n",
            "2017   NaN   NaN  6.733196e+14\n",
            "2018   NaN   NaN  7.153699e+14\n",
            "2019   NaN   NaN  7.255474e+14\n",
            "2020   NaN   NaN  7.031544e+14\n",
            "2021   NaN   NaN  8.027709e+14\n",
            "\n",
            "[204 rows x 3 columns]\n"
          ]
        }
      ]
    },
    {
      "cell_type": "code",
      "source": [
        "print(tmp_gdp.head(50))\n",
        "print(tmp_gdp.tail(50))"
      ],
      "metadata": {
        "colab": {
          "base_uri": "https://localhost:8080/"
        },
        "id": "afnOdSOd37_2",
        "outputId": "e65f2b35-acd2-4dcc-81da-9677eaf09221"
      },
      "execution_count": 44,
      "outputs": [
        {
          "output_type": "stream",
          "name": "stdout",
          "text": [
            "      tmp1  tmp2  gdp\n",
            "year                 \n",
            "1881 -0.08 -0.13  NaN\n",
            "1882 -0.11 -0.17  NaN\n",
            "1883 -0.17 -0.20  NaN\n",
            "1884 -0.28 -0.24  NaN\n",
            "1885 -0.33 -0.26  NaN\n",
            "1886 -0.31 -0.27  NaN\n",
            "1887 -0.36 -0.27  NaN\n",
            "1888 -0.17 -0.26  NaN\n",
            "1889 -0.10 -0.25  NaN\n",
            "1890 -0.35 -0.25  NaN\n",
            "1891 -0.22 -0.25  NaN\n",
            "1892 -0.27 -0.26  NaN\n",
            "1893 -0.31 -0.26  NaN\n",
            "1894 -0.30 -0.24  NaN\n",
            "1895 -0.22 -0.22  NaN\n",
            "1896 -0.11 -0.20  NaN\n",
            "1897 -0.11 -0.18  NaN\n",
            "1898 -0.27 -0.16  NaN\n",
            "1899 -0.17 -0.17  NaN\n",
            "1900 -0.08 -0.20  NaN\n",
            "1901 -0.15 -0.23  NaN\n",
            "1902 -0.27 -0.25  NaN\n",
            "1903 -0.37 -0.28  NaN\n",
            "1904 -0.47 -0.31  NaN\n",
            "1905 -0.26 -0.34  NaN\n",
            "1906 -0.22 -0.36  NaN\n",
            "1907 -0.38 -0.37  NaN\n",
            "1908 -0.43 -0.39  NaN\n",
            "1909 -0.48 -0.41  NaN\n",
            "1910 -0.43 -0.41  NaN\n",
            "1911 -0.44 -0.39  NaN\n",
            "1912 -0.36 -0.35  NaN\n",
            "1913 -0.34 -0.32  NaN\n",
            "1914 -0.15 -0.31  NaN\n",
            "1915 -0.14 -0.30  NaN\n",
            "1916 -0.36 -0.29  NaN\n",
            "1917 -0.46 -0.29  NaN\n",
            "1918 -0.29 -0.30  NaN\n",
            "1919 -0.28 -0.29  NaN\n",
            "1920 -0.27 -0.28  NaN\n",
            "1921 -0.19 -0.26  NaN\n",
            "1922 -0.28 -0.25  NaN\n",
            "1923 -0.26 -0.24  NaN\n",
            "1924 -0.27 -0.23  NaN\n",
            "1925 -0.22 -0.22  NaN\n",
            "1926 -0.11 -0.22  NaN\n",
            "1927 -0.22 -0.21  NaN\n",
            "1928 -0.20 -0.20  NaN\n",
            "1929 -0.36 -0.19  NaN\n",
            "1930 -0.15 -0.19  NaN\n",
            "      tmp1  tmp2           gdp\n",
            "year                          \n",
            "1972   NaN   NaN  2.826309e+13\n",
            "1973   NaN   NaN  3.487464e+13\n",
            "1974   NaN   NaN  4.080591e+13\n",
            "1975   NaN   NaN  4.554970e+13\n",
            "1976   NaN   NaN  4.929561e+13\n",
            "1977   NaN   NaN  5.569899e+13\n",
            "1978   NaN   NaN  6.491046e+13\n",
            "1979   NaN   NaN  7.597876e+13\n",
            "1980   NaN   NaN  8.665200e+13\n",
            "1981   NaN   NaN  8.998085e+13\n",
            "1982   NaN   NaN  8.870408e+13\n",
            "1983   NaN   NaN  8.911315e+13\n",
            "1984   NaN   NaN  9.146675e+13\n",
            "1985   NaN   NaN  9.556142e+13\n",
            "1986   NaN   NaN  1.117677e+14\n",
            "1987   NaN   NaN  1.263436e+14\n",
            "1988   NaN   NaN  1.425237e+14\n",
            "1989   NaN   NaN  1.484445e+14\n",
            "1990   NaN   NaN  1.699710e+14\n",
            "1991   NaN   NaN  1.751969e+14\n",
            "1992   NaN   NaN  1.867634e+14\n",
            "1993   NaN   NaN  1.894587e+14\n",
            "1994   NaN   NaN  2.043139e+14\n",
            "1995   NaN   NaN  2.286573e+14\n",
            "1996   NaN   NaN  2.356063e+14\n",
            "1997   NaN   NaN  2.353501e+14\n",
            "1998   NaN   NaN  2.346722e+14\n",
            "1999   NaN   NaN  2.411762e+14\n",
            "2000   NaN   NaN  2.492553e+14\n",
            "2001   NaN   NaN  2.485444e+14\n",
            "2002   NaN   NaN  2.584975e+14\n",
            "2003   NaN   NaN  2.916890e+14\n",
            "2004   NaN   NaN  3.316249e+14\n",
            "2005   NaN   NaN  3.633095e+14\n",
            "2006   NaN   NaN  3.989838e+14\n",
            "2007   NaN   NaN  4.571682e+14\n",
            "2008   NaN   NaN  5.107845e+14\n",
            "2009   NaN   NaN  4.848677e+14\n",
            "2010   NaN   NaN  5.384990e+14\n",
            "2011   NaN   NaN  6.034965e+14\n",
            "2012   NaN   NaN  6.194668e+14\n",
            "2013   NaN   NaN  6.415997e+14\n",
            "2014   NaN   NaN  6.601069e+14\n",
            "2015   NaN   NaN  6.192520e+14\n",
            "2016   NaN   NaN  6.282800e+14\n",
            "2017   NaN   NaN  6.733196e+14\n",
            "2018   NaN   NaN  7.153699e+14\n",
            "2019   NaN   NaN  7.255474e+14\n",
            "2020   NaN   NaN  7.031544e+14\n",
            "2021   NaN   NaN  8.027709e+14\n"
          ]
        }
      ]
    },
    {
      "cell_type": "code",
      "source": [
        "final_tmp_gdp = tmp_gdp.dropna(axis=0)\n",
        "print(final_tmp_gdp)"
      ],
      "metadata": {
        "colab": {
          "base_uri": "https://localhost:8080/"
        },
        "id": "O-mFeqbW2Y83",
        "outputId": "bbc1d159-680a-41bb-c5b0-51a3769b099b"
      },
      "execution_count": 45,
      "outputs": [
        {
          "output_type": "stream",
          "name": "stdout",
          "text": [
            "Empty DataFrame\n",
            "Columns: [tmp1, tmp2, gdp]\n",
            "Index: []\n"
          ]
        }
      ]
    }
  ]
}