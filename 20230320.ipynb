{
  "nbformat": 4,
  "nbformat_minor": 0,
  "metadata": {
    "colab": {
      "provenance": [],
      "mount_file_id": "19gvsugbqdUGIKZ8M40z5eBv0d8H3FfaF",
      "authorship_tag": "ABX9TyN9Bg/bOaScbillxMMxyagS",
      "include_colab_link": true
    },
    "kernelspec": {
      "name": "python3",
      "display_name": "Python 3"
    },
    "language_info": {
      "name": "python"
    }
  },
  "cells": [
    {
      "cell_type": "markdown",
      "metadata": {
        "id": "view-in-github",
        "colab_type": "text"
      },
      "source": [
        "<a href=\"https://colab.research.google.com/github/jimin007a/bigdata/blob/main/20230320.ipynb\" target=\"_parent\"><img src=\"https://colab.research.google.com/assets/colab-badge.svg\" alt=\"Open In Colab\"/></a>"
      ]
    },
    {
      "cell_type": "code",
      "execution_count": null,
      "metadata": {
        "id": "RdVdWAJMp8oy"
      },
      "outputs": [],
      "source": []
    },
    {
      "cell_type": "code",
      "source": [
        "from google.colab import drive\n",
        "drive.mount('/content/drive')"
      ],
      "metadata": {
        "colab": {
          "base_uri": "https://localhost:8080/"
        },
        "id": "nyiNEVdq1fDY",
        "outputId": "b202e453-3cef-4cde-a892-5d25482964c6"
      },
      "execution_count": null,
      "outputs": [
        {
          "output_type": "stream",
          "name": "stdout",
          "text": [
            "Mounted at /content/drive\n"
          ]
        }
      ]
    },
    {
      "cell_type": "code",
      "source": [
        "import pandas as pd\n",
        "df = pd.read_csv('/content/drive/MyDrive/Colab Notebooks/경기도 가평군_민박펜션업소현황_20230214 (1).csv', sep = ',', encoding = 'cp949')\n",
        "print(df.size)\n",
        "print(df.shape)\n",
        "print(df.ndim)\n",
        "print(df.head())"
      ],
      "metadata": {
        "colab": {
          "base_uri": "https://localhost:8080/"
        },
        "id": "OfIGLUn_15MP",
        "outputId": "472633f4-de3b-4bc8-d37e-770038e11af6"
      },
      "execution_count": null,
      "outputs": [
        {
          "output_type": "stream",
          "name": "stdout",
          "text": [
            "11000\n",
            "(1100, 10)\n",
            "2\n",
            "          업소명 업종명  서비스대상구분 외국어안내서비스                 소재지도로명주소  \\\n",
            "0       하늘목민박  민박  내국인+외국인       없음      경기도 가평군 상면 수목원로 201   \n",
            "1   가평유명산오즈펜션  민박  내국인+외국인       없음  경기도 가평군 설악면 유명산길 61-100   \n",
            "2    청평하늘정원펜션  민박  내국인+외국인       없음  경기도 가평군 청평면 수리재길 343-43   \n",
            "3      산새소리민박  민박  내국인+외국인       없음      경기도 가평군 청평면 오댓골길 25   \n",
            "4  가평비타민팜체험농장  민박  내국인+외국인       없음     경기도 가평군 북면 제령아랫말길 64   \n",
            "\n",
            "                   소재지지번주소  객실수         위도          경도     데이터기준일자  \n",
            "0   경기도 가평군 상면 행현리 456-3번지    7  37.760658  127.362560  2023-02-14  \n",
            "1  경기도 가평군 설악면 가일리 215-2번지    5  37.597082  127.494245  2023-02-14  \n",
            "2  경기도 가평군 청평면 상천리 964-1번지    3  37.792472  127.431444  2023-02-14  \n",
            "3     경기도 가평군 청평면 청평리 42번지    6  37.728395  127.427576  2023-02-14  \n",
            "4   경기도 가평군 북면 제령리 216-1번지    2  37.888737  127.538792  2023-02-14  \n"
          ]
        }
      ]
    },
    {
      "cell_type": "code",
      "source": [
        "df['객실수'].max()"
      ],
      "metadata": {
        "colab": {
          "base_uri": "https://localhost:8080/"
        },
        "id": "eJmjyAy93y1g",
        "outputId": "c531f99f-e145-4297-9d03-1660e2618e6d"
      },
      "execution_count": null,
      "outputs": [
        {
          "output_type": "execute_result",
          "data": {
            "text/plain": [
              "11"
            ]
          },
          "metadata": {},
          "execution_count": 10
        }
      ]
    },
    {
      "cell_type": "code",
      "source": [
        "import pandas as pd\n",
        "from sklearn.datasets import load_iris\n",
        "iris = load_iris()\n",
        "print(iris.DESCR)\n",
        "#df = pd.DataFrame(data = iris.data, columns = iris.feature_names)\n"
      ],
      "metadata": {
        "colab": {
          "base_uri": "https://localhost:8080/"
        },
        "id": "zhMf_hMy4oPb",
        "outputId": "726caa5f-5dc9-45c1-965f-803936236064"
      },
      "execution_count": null,
      "outputs": [
        {
          "output_type": "stream",
          "name": "stdout",
          "text": [
            ".. _iris_dataset:\n",
            "\n",
            "Iris plants dataset\n",
            "--------------------\n",
            "\n",
            "**Data Set Characteristics:**\n",
            "\n",
            "    :Number of Instances: 150 (50 in each of three classes)\n",
            "    :Number of Attributes: 4 numeric, predictive attributes and the class\n",
            "    :Attribute Information:\n",
            "        - sepal length in cm\n",
            "        - sepal width in cm\n",
            "        - petal length in cm\n",
            "        - petal width in cm\n",
            "        - class:\n",
            "                - Iris-Setosa\n",
            "                - Iris-Versicolour\n",
            "                - Iris-Virginica\n",
            "                \n",
            "    :Summary Statistics:\n",
            "\n",
            "    ============== ==== ==== ======= ===== ====================\n",
            "                    Min  Max   Mean    SD   Class Correlation\n",
            "    ============== ==== ==== ======= ===== ====================\n",
            "    sepal length:   4.3  7.9   5.84   0.83    0.7826\n",
            "    sepal width:    2.0  4.4   3.05   0.43   -0.4194\n",
            "    petal length:   1.0  6.9   3.76   1.76    0.9490  (high!)\n",
            "    petal width:    0.1  2.5   1.20   0.76    0.9565  (high!)\n",
            "    ============== ==== ==== ======= ===== ====================\n",
            "\n",
            "    :Missing Attribute Values: None\n",
            "    :Class Distribution: 33.3% for each of 3 classes.\n",
            "    :Creator: R.A. Fisher\n",
            "    :Donor: Michael Marshall (MARSHALL%PLU@io.arc.nasa.gov)\n",
            "    :Date: July, 1988\n",
            "\n",
            "The famous Iris database, first used by Sir R.A. Fisher. The dataset is taken\n",
            "from Fisher's paper. Note that it's the same as in R, but not as in the UCI\n",
            "Machine Learning Repository, which has two wrong data points.\n",
            "\n",
            "This is perhaps the best known database to be found in the\n",
            "pattern recognition literature.  Fisher's paper is a classic in the field and\n",
            "is referenced frequently to this day.  (See Duda & Hart, for example.)  The\n",
            "data set contains 3 classes of 50 instances each, where each class refers to a\n",
            "type of iris plant.  One class is linearly separable from the other 2; the\n",
            "latter are NOT linearly separable from each other.\n",
            "\n",
            ".. topic:: References\n",
            "\n",
            "   - Fisher, R.A. \"The use of multiple measurements in taxonomic problems\"\n",
            "     Annual Eugenics, 7, Part II, 179-188 (1936); also in \"Contributions to\n",
            "     Mathematical Statistics\" (John Wiley, NY, 1950).\n",
            "   - Duda, R.O., & Hart, P.E. (1973) Pattern Classification and Scene Analysis.\n",
            "     (Q327.D83) John Wiley & Sons.  ISBN 0-471-22361-1.  See page 218.\n",
            "   - Dasarathy, B.V. (1980) \"Nosing Around the Neighborhood: A New System\n",
            "     Structure and Classification Rule for Recognition in Partially Exposed\n",
            "     Environments\".  IEEE Transactions on Pattern Analysis and Machine\n",
            "     Intelligence, Vol. PAMI-2, No. 1, 67-71.\n",
            "   - Gates, G.W. (1972) \"The Reduced Nearest Neighbor Rule\".  IEEE Transactions\n",
            "     on Information Theory, May 1972, 431-433.\n",
            "   - See also: 1988 MLC Proceedings, 54-64.  Cheeseman et al\"s AUTOCLASS II\n",
            "     conceptual clustering system finds 3 classes in the data.\n",
            "   - Many, many more ...\n"
          ]
        }
      ]
    },
    {
      "cell_type": "code",
      "source": [
        "df = pd.DataFrame(data = iris.data, columns = iris.feature_names)\n",
        "df['target'] = iris.target\n",
        "print(df.size) # 총 요소수를 반환 m행 n열\n",
        "print(df.shape) # 데이터의 모양 (행, 열)의 튜플을 반환\n",
        "print(df.ndim) # 데이터의 차원수를 반환"
      ],
      "metadata": {
        "colab": {
          "base_uri": "https://localhost:8080/"
        },
        "id": "JW1MeadP5cX3",
        "outputId": "c4403d78-00cb-49aa-e582-c5e672654d15"
      },
      "execution_count": null,
      "outputs": [
        {
          "output_type": "stream",
          "name": "stdout",
          "text": [
            "750\n",
            "(150, 5)\n",
            "2\n"
          ]
        }
      ]
    }
  ]
}