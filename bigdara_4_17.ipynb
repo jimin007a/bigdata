{
  "nbformat": 4,
  "nbformat_minor": 0,
  "metadata": {
    "colab": {
      "provenance": [],
      "authorship_tag": "ABX9TyMdh9prPEwX+RNshUE0fmlq",
      "include_colab_link": true
    },
    "kernelspec": {
      "name": "python3",
      "display_name": "Python 3"
    },
    "language_info": {
      "name": "python"
    }
  },
  "cells": [
    {
      "cell_type": "markdown",
      "metadata": {
        "id": "view-in-github",
        "colab_type": "text"
      },
      "source": [
        "<a href=\"https://colab.research.google.com/github/jimin007a/bigdata/blob/main/bigdara_4_17.ipynb\" target=\"_parent\"><img src=\"https://colab.research.google.com/assets/colab-badge.svg\" alt=\"Open In Colab\"/></a>"
      ]
    },
    {
      "cell_type": "code",
      "execution_count": null,
      "metadata": {
        "colab": {
          "base_uri": "https://localhost:8080/"
        },
        "id": "HxHqcN8jEt15",
        "outputId": "3e45fb90-4416-4f0b-ef0a-c6788893eaa6"
      },
      "outputs": [
        {
          "output_type": "stream",
          "name": "stdout",
          "text": [
            "0.09090909090909091\n"
          ]
        }
      ],
      "source": [
        "import numpy as np\n",
        "y = np.array([4, 3, 7, 5, 9 ,8, 1, 2, 3, 6, 7])\n",
        "y_hat = np.array([3, 3, 7, 5, 9 ,8, 1, 2, 3, 6, 7])\n",
        "from sklearn.metrics import mean_absolute_error as mae\n",
        "print(mae(y,y_hat))"
      ]
    }
  ]
}