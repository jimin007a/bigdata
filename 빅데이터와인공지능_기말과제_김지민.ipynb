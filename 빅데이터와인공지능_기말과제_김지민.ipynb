{
  "nbformat": 4,
  "nbformat_minor": 0,
  "metadata": {
    "colab": {
      "provenance": [],
      "authorship_tag": "ABX9TyNTrLuwPYbJfNgc9j7JsOsk",
      "include_colab_link": true
    },
    "kernelspec": {
      "name": "python3",
      "display_name": "Python 3"
    },
    "language_info": {
      "name": "python"
    }
  },
  "cells": [
    {
      "cell_type": "markdown",
      "metadata": {
        "id": "view-in-github",
        "colab_type": "text"
      },
      "source": [
        "<a href=\"https://colab.research.google.com/github/jimin007a/bigdata/blob/main/%EB%B9%85%EB%8D%B0%EC%9D%B4%ED%84%B0%EC%99%80%EC%9D%B8%EA%B3%B5%EC%A7%80%EB%8A%A5_%EA%B8%B0%EB%A7%90%EA%B3%BC%EC%A0%9C_%EA%B9%80%EC%A7%80%EB%AF%BC.ipynb\" target=\"_parent\"><img src=\"https://colab.research.google.com/assets/colab-badge.svg\" alt=\"Open In Colab\"/></a>"
      ]
    },
    {
      "cell_type": "code",
      "execution_count": null,
      "metadata": {
        "id": "UKM1_FygRkCO"
      },
      "outputs": [],
      "source": [
        "#경상남도 창원시_코로나 확진자 수\n",
        "url = 'https://api.odcloud.kr/api/15099493/v1/uddi:c493e155-c7bd-49fa-a11f-ddeba09ee56c?page=1&perPage=10&serviceKey='\n",
        "key = '83ALMlniWjvKjpzq8BjcFrENYPKvpOjx65fU6Q53oRmRWlvbhqsjq05XRJOWg7HdvA0rtAbTl7DFx4BKzrNcSg%3D%3D'"
      ]
    },
    {
      "cell_type": "code",
      "source": [
        "import requests\n",
        "\n",
        "#url 불러오기(API호출)\n",
        "response = requests.get(url+key)"
      ],
      "metadata": {
        "id": "GBa-l9FxSi7s"
      },
      "execution_count": null,
      "outputs": []
    },
    {
      "cell_type": "code",
      "source": [
        "#데이터값 출력\n",
        "contents = response.text\n",
        "print(contents)"
      ],
      "metadata": {
        "colab": {
          "base_uri": "https://localhost:8080/"
        },
        "id": "MhRY0SHeS0xO",
        "outputId": "065610da-6ed2-4342-85e9-57deb14ff55e"
      },
      "execution_count": null,
      "outputs": [
        {
          "output_type": "stream",
          "name": "stdout",
          "text": [
            "{\"currentCount\":10,\"data\":[{\"마산합포구\":null,\"마산회원구\":null,\"성산구\":null,\"월\":\"2020-01\",\"의창구\":null,\"진해구\":null,\"타지역\":null,\"합 계\":null},{\"마산합포구\":2,\"마산회원구\":1,\"성산구\":10,\"월\":\"2020-02\",\"의창구\":3,\"진해구\":null,\"타지역\":null,\"합 계\":16},{\"마산합포구\":null,\"마산회원구\":null,\"성산구\":8,\"월\":\"2020-03\",\"의창구\":3,\"진해구\":null,\"타지역\":null,\"합 계\":11},{\"마산합포구\":3,\"마산회원구\":null,\"성산구\":null,\"월\":\"2020-04\",\"의창구\":null,\"진해구\":1,\"타지역\":null,\"합 계\":4},{\"마산합포구\":null,\"마산회원구\":null,\"성산구\":null,\"월\":\"2020-05\",\"의창구\":null,\"진해구\":null,\"타지역\":null,\"합 계\":null},{\"마산합포구\":null,\"마산회원구\":null,\"성산구\":null,\"월\":\"2020-06\",\"의창구\":null,\"진해구\":null,\"타지역\":null,\"합 계\":null},{\"마산합포구\":2,\"마산회원구\":null,\"성산구\":null,\"월\":\"2020-07\",\"의창구\":null,\"진해구\":2,\"타지역\":null,\"합 계\":4},{\"마산합포구\":5,\"마산회원구\":3,\"성산구\":4,\"월\":\"2020-08\",\"의창구\":5,\"진해구\":2,\"타지역\":2,\"합 계\":21},{\"마산합포구\":null,\"마산회원구\":5,\"성산구\":2,\"월\":\"2020-09\",\"의창구\":6,\"진해구\":1,\"타지역\":1,\"합 계\":15},{\"마산합포구\":1,\"마산회원구\":1,\"성산구\":2,\"월\":\"2020-10\",\"의창구\":11,\"진해구\":null,\"타지역\":null,\"합 계\":15}],\"matchCount\":29,\"page\":1,\"perPage\":10,\"totalCount\":29}\n",
            "\n"
          ]
        }
      ]
    },
    {
      "cell_type": "code",
      "source": [
        "#문자열을 json으로 변경\n",
        "import json\n",
        "json_ob = json.loads(contents)\n",
        "print(json_ob)\n",
        "print(json_ob.keys())\n",
        "print(json_ob.values())"
      ],
      "metadata": {
        "colab": {
          "base_uri": "https://localhost:8080/"
        },
        "id": "fwgfcl6xS-uX",
        "outputId": "6fc74e53-5937-4b5e-898d-1c0c21e92959"
      },
      "execution_count": null,
      "outputs": [
        {
          "output_type": "stream",
          "name": "stdout",
          "text": [
            "{'currentCount': 10, 'data': [{'마산합포구': None, '마산회원구': None, '성산구': None, '월': '2020-01', '의창구': None, '진해구': None, '타지역': None, '합 계': None}, {'마산합포구': 2, '마산회원구': 1, '성산구': 10, '월': '2020-02', '의창구': 3, '진해구': None, '타지역': None, '합 계': 16}, {'마산합포구': None, '마산회원구': None, '성산구': 8, '월': '2020-03', '의창구': 3, '진해구': None, '타지역': None, '합 계': 11}, {'마산합포구': 3, '마산회원구': None, '성산구': None, '월': '2020-04', '의창구': None, '진해구': 1, '타지역': None, '합 계': 4}, {'마산합포구': None, '마산회원구': None, '성산구': None, '월': '2020-05', '의창구': None, '진해구': None, '타지역': None, '합 계': None}, {'마산합포구': None, '마산회원구': None, '성산구': None, '월': '2020-06', '의창구': None, '진해구': None, '타지역': None, '합 계': None}, {'마산합포구': 2, '마산회원구': None, '성산구': None, '월': '2020-07', '의창구': None, '진해구': 2, '타지역': None, '합 계': 4}, {'마산합포구': 5, '마산회원구': 3, '성산구': 4, '월': '2020-08', '의창구': 5, '진해구': 2, '타지역': 2, '합 계': 21}, {'마산합포구': None, '마산회원구': 5, '성산구': 2, '월': '2020-09', '의창구': 6, '진해구': 1, '타지역': 1, '합 계': 15}, {'마산합포구': 1, '마산회원구': 1, '성산구': 2, '월': '2020-10', '의창구': 11, '진해구': None, '타지역': None, '합 계': 15}], 'matchCount': 29, 'page': 1, 'perPage': 10, 'totalCount': 29}\n",
            "dict_keys(['currentCount', 'data', 'matchCount', 'page', 'perPage', 'totalCount'])\n",
            "dict_values([10, [{'마산합포구': None, '마산회원구': None, '성산구': None, '월': '2020-01', '의창구': None, '진해구': None, '타지역': None, '합 계': None}, {'마산합포구': 2, '마산회원구': 1, '성산구': 10, '월': '2020-02', '의창구': 3, '진해구': None, '타지역': None, '합 계': 16}, {'마산합포구': None, '마산회원구': None, '성산구': 8, '월': '2020-03', '의창구': 3, '진해구': None, '타지역': None, '합 계': 11}, {'마산합포구': 3, '마산회원구': None, '성산구': None, '월': '2020-04', '의창구': None, '진해구': 1, '타지역': None, '합 계': 4}, {'마산합포구': None, '마산회원구': None, '성산구': None, '월': '2020-05', '의창구': None, '진해구': None, '타지역': None, '합 계': None}, {'마산합포구': None, '마산회원구': None, '성산구': None, '월': '2020-06', '의창구': None, '진해구': None, '타지역': None, '합 계': None}, {'마산합포구': 2, '마산회원구': None, '성산구': None, '월': '2020-07', '의창구': None, '진해구': 2, '타지역': None, '합 계': 4}, {'마산합포구': 5, '마산회원구': 3, '성산구': 4, '월': '2020-08', '의창구': 5, '진해구': 2, '타지역': 2, '합 계': 21}, {'마산합포구': None, '마산회원구': 5, '성산구': 2, '월': '2020-09', '의창구': 6, '진해구': 1, '타지역': 1, '합 계': 15}, {'마산합포구': 1, '마산회원구': 1, '성산구': 2, '월': '2020-10', '의창구': 11, '진해구': None, '타지역': None, '합 계': 15}], 29, 1, 10, 29])\n"
          ]
        }
      ]
    },
    {
      "cell_type": "code",
      "source": [
        "#key를 기준으로 필요한 내용 추출\n",
        "count = json_ob['currentCount']\n",
        "print(count)\n",
        "data = json_ob['data']\n",
        "print(data)"
      ],
      "metadata": {
        "colab": {
          "base_uri": "https://localhost:8080/"
        },
        "id": "8hOSujznTpv7",
        "outputId": "efb517f6-4b4d-4c0b-9050-56eddf9b74f7"
      },
      "execution_count": null,
      "outputs": [
        {
          "output_type": "stream",
          "name": "stdout",
          "text": [
            "10\n",
            "[{'마산합포구': None, '마산회원구': None, '성산구': None, '월': '2020-01', '의창구': None, '진해구': None, '타지역': None, '합 계': None}, {'마산합포구': 2, '마산회원구': 1, '성산구': 10, '월': '2020-02', '의창구': 3, '진해구': None, '타지역': None, '합 계': 16}, {'마산합포구': None, '마산회원구': None, '성산구': 8, '월': '2020-03', '의창구': 3, '진해구': None, '타지역': None, '합 계': 11}, {'마산합포구': 3, '마산회원구': None, '성산구': None, '월': '2020-04', '의창구': None, '진해구': 1, '타지역': None, '합 계': 4}, {'마산합포구': None, '마산회원구': None, '성산구': None, '월': '2020-05', '의창구': None, '진해구': None, '타지역': None, '합 계': None}, {'마산합포구': None, '마산회원구': None, '성산구': None, '월': '2020-06', '의창구': None, '진해구': None, '타지역': None, '합 계': None}, {'마산합포구': 2, '마산회원구': None, '성산구': None, '월': '2020-07', '의창구': None, '진해구': 2, '타지역': None, '합 계': 4}, {'마산합포구': 5, '마산회원구': 3, '성산구': 4, '월': '2020-08', '의창구': 5, '진해구': 2, '타지역': 2, '합 계': 21}, {'마산합포구': None, '마산회원구': 5, '성산구': 2, '월': '2020-09', '의창구': 6, '진해구': 1, '타지역': 1, '합 계': 15}, {'마산합포구': 1, '마산회원구': 1, '성산구': 2, '월': '2020-10', '의창구': 11, '진해구': None, '타지역': None, '합 계': 15}]\n"
          ]
        }
      ]
    },
    {
      "cell_type": "code",
      "source": [
        "#key를 기준으로 필요한 내용 추출후 데이터프레임으로 변경\n",
        "import pandas as pd\n",
        "data_df = pd.DataFrame(json_ob['data'])\n",
        "print(data_df)\n",
        "data_df.to_csv('경상남도 창원시_코로나 확진자 수.csv')"
      ],
      "metadata": {
        "colab": {
          "base_uri": "https://localhost:8080/"
        },
        "id": "cU0Lq2pLT3rR",
        "outputId": "2808aa01-513d-45d1-840a-bf61caed8acf"
      },
      "execution_count": null,
      "outputs": [
        {
          "output_type": "stream",
          "name": "stdout",
          "text": [
            "   마산합포구  마산회원구   성산구        월   의창구  진해구  타지역   합 계\n",
            "0    NaN    NaN   NaN  2020-01   NaN  NaN  NaN   NaN\n",
            "1    2.0    1.0  10.0  2020-02   3.0  NaN  NaN  16.0\n",
            "2    NaN    NaN   8.0  2020-03   3.0  NaN  NaN  11.0\n",
            "3    3.0    NaN   NaN  2020-04   NaN  1.0  NaN   4.0\n",
            "4    NaN    NaN   NaN  2020-05   NaN  NaN  NaN   NaN\n",
            "5    NaN    NaN   NaN  2020-06   NaN  NaN  NaN   NaN\n",
            "6    2.0    NaN   NaN  2020-07   NaN  2.0  NaN   4.0\n",
            "7    5.0    3.0   4.0  2020-08   5.0  2.0  2.0  21.0\n",
            "8    NaN    5.0   2.0  2020-09   6.0  1.0  1.0  15.0\n",
            "9    1.0    1.0   2.0  2020-10  11.0  NaN  NaN  15.0\n"
          ]
        }
      ]
    },
    {
      "cell_type": "code",
      "source": [
        "data_df.describe()"
      ],
      "metadata": {
        "colab": {
          "base_uri": "https://localhost:8080/",
          "height": 300
        },
        "id": "6BjeIE4gUo5v",
        "outputId": "4cb7eae5-28fe-4706-8bdd-38fe6d91bca1"
      },
      "execution_count": null,
      "outputs": [
        {
          "output_type": "execute_result",
          "data": {
            "text/plain": [
              "          마산합포구     마산회원구       성산구        의창구      진해구       타지역        합 계\n",
              "count  5.000000  4.000000   5.00000   5.000000  4.00000  2.000000   7.000000\n",
              "mean   2.600000  2.500000   5.20000   5.600000  1.50000  1.500000  12.285714\n",
              "std    1.516575  1.914854   3.63318   3.286335  0.57735  0.707107   6.369571\n",
              "min    1.000000  1.000000   2.00000   3.000000  1.00000  1.000000   4.000000\n",
              "25%    2.000000  1.000000   2.00000   3.000000  1.00000  1.250000   7.500000\n",
              "50%    2.000000  2.000000   4.00000   5.000000  1.50000  1.500000  15.000000\n",
              "75%    3.000000  3.500000   8.00000   6.000000  2.00000  1.750000  15.500000\n",
              "max    5.000000  5.000000  10.00000  11.000000  2.00000  2.000000  21.000000"
            ],
            "text/html": [
              "\n",
              "  <div id=\"df-65b1f938-177d-43ca-984a-d4449bb94d5c\">\n",
              "    <div class=\"colab-df-container\">\n",
              "      <div>\n",
              "<style scoped>\n",
              "    .dataframe tbody tr th:only-of-type {\n",
              "        vertical-align: middle;\n",
              "    }\n",
              "\n",
              "    .dataframe tbody tr th {\n",
              "        vertical-align: top;\n",
              "    }\n",
              "\n",
              "    .dataframe thead th {\n",
              "        text-align: right;\n",
              "    }\n",
              "</style>\n",
              "<table border=\"1\" class=\"dataframe\">\n",
              "  <thead>\n",
              "    <tr style=\"text-align: right;\">\n",
              "      <th></th>\n",
              "      <th>마산합포구</th>\n",
              "      <th>마산회원구</th>\n",
              "      <th>성산구</th>\n",
              "      <th>의창구</th>\n",
              "      <th>진해구</th>\n",
              "      <th>타지역</th>\n",
              "      <th>합 계</th>\n",
              "    </tr>\n",
              "  </thead>\n",
              "  <tbody>\n",
              "    <tr>\n",
              "      <th>count</th>\n",
              "      <td>5.000000</td>\n",
              "      <td>4.000000</td>\n",
              "      <td>5.00000</td>\n",
              "      <td>5.000000</td>\n",
              "      <td>4.00000</td>\n",
              "      <td>2.000000</td>\n",
              "      <td>7.000000</td>\n",
              "    </tr>\n",
              "    <tr>\n",
              "      <th>mean</th>\n",
              "      <td>2.600000</td>\n",
              "      <td>2.500000</td>\n",
              "      <td>5.20000</td>\n",
              "      <td>5.600000</td>\n",
              "      <td>1.50000</td>\n",
              "      <td>1.500000</td>\n",
              "      <td>12.285714</td>\n",
              "    </tr>\n",
              "    <tr>\n",
              "      <th>std</th>\n",
              "      <td>1.516575</td>\n",
              "      <td>1.914854</td>\n",
              "      <td>3.63318</td>\n",
              "      <td>3.286335</td>\n",
              "      <td>0.57735</td>\n",
              "      <td>0.707107</td>\n",
              "      <td>6.369571</td>\n",
              "    </tr>\n",
              "    <tr>\n",
              "      <th>min</th>\n",
              "      <td>1.000000</td>\n",
              "      <td>1.000000</td>\n",
              "      <td>2.00000</td>\n",
              "      <td>3.000000</td>\n",
              "      <td>1.00000</td>\n",
              "      <td>1.000000</td>\n",
              "      <td>4.000000</td>\n",
              "    </tr>\n",
              "    <tr>\n",
              "      <th>25%</th>\n",
              "      <td>2.000000</td>\n",
              "      <td>1.000000</td>\n",
              "      <td>2.00000</td>\n",
              "      <td>3.000000</td>\n",
              "      <td>1.00000</td>\n",
              "      <td>1.250000</td>\n",
              "      <td>7.500000</td>\n",
              "    </tr>\n",
              "    <tr>\n",
              "      <th>50%</th>\n",
              "      <td>2.000000</td>\n",
              "      <td>2.000000</td>\n",
              "      <td>4.00000</td>\n",
              "      <td>5.000000</td>\n",
              "      <td>1.50000</td>\n",
              "      <td>1.500000</td>\n",
              "      <td>15.000000</td>\n",
              "    </tr>\n",
              "    <tr>\n",
              "      <th>75%</th>\n",
              "      <td>3.000000</td>\n",
              "      <td>3.500000</td>\n",
              "      <td>8.00000</td>\n",
              "      <td>6.000000</td>\n",
              "      <td>2.00000</td>\n",
              "      <td>1.750000</td>\n",
              "      <td>15.500000</td>\n",
              "    </tr>\n",
              "    <tr>\n",
              "      <th>max</th>\n",
              "      <td>5.000000</td>\n",
              "      <td>5.000000</td>\n",
              "      <td>10.00000</td>\n",
              "      <td>11.000000</td>\n",
              "      <td>2.00000</td>\n",
              "      <td>2.000000</td>\n",
              "      <td>21.000000</td>\n",
              "    </tr>\n",
              "  </tbody>\n",
              "</table>\n",
              "</div>\n",
              "      <button class=\"colab-df-convert\" onclick=\"convertToInteractive('df-65b1f938-177d-43ca-984a-d4449bb94d5c')\"\n",
              "              title=\"Convert this dataframe to an interactive table.\"\n",
              "              style=\"display:none;\">\n",
              "        \n",
              "  <svg xmlns=\"http://www.w3.org/2000/svg\" height=\"24px\"viewBox=\"0 0 24 24\"\n",
              "       width=\"24px\">\n",
              "    <path d=\"M0 0h24v24H0V0z\" fill=\"none\"/>\n",
              "    <path d=\"M18.56 5.44l.94 2.06.94-2.06 2.06-.94-2.06-.94-.94-2.06-.94 2.06-2.06.94zm-11 1L8.5 8.5l.94-2.06 2.06-.94-2.06-.94L8.5 2.5l-.94 2.06-2.06.94zm10 10l.94 2.06.94-2.06 2.06-.94-2.06-.94-.94-2.06-.94 2.06-2.06.94z\"/><path d=\"M17.41 7.96l-1.37-1.37c-.4-.4-.92-.59-1.43-.59-.52 0-1.04.2-1.43.59L10.3 9.45l-7.72 7.72c-.78.78-.78 2.05 0 2.83L4 21.41c.39.39.9.59 1.41.59.51 0 1.02-.2 1.41-.59l7.78-7.78 2.81-2.81c.8-.78.8-2.07 0-2.86zM5.41 20L4 18.59l7.72-7.72 1.47 1.35L5.41 20z\"/>\n",
              "  </svg>\n",
              "      </button>\n",
              "      \n",
              "  <style>\n",
              "    .colab-df-container {\n",
              "      display:flex;\n",
              "      flex-wrap:wrap;\n",
              "      gap: 12px;\n",
              "    }\n",
              "\n",
              "    .colab-df-convert {\n",
              "      background-color: #E8F0FE;\n",
              "      border: none;\n",
              "      border-radius: 50%;\n",
              "      cursor: pointer;\n",
              "      display: none;\n",
              "      fill: #1967D2;\n",
              "      height: 32px;\n",
              "      padding: 0 0 0 0;\n",
              "      width: 32px;\n",
              "    }\n",
              "\n",
              "    .colab-df-convert:hover {\n",
              "      background-color: #E2EBFA;\n",
              "      box-shadow: 0px 1px 2px rgba(60, 64, 67, 0.3), 0px 1px 3px 1px rgba(60, 64, 67, 0.15);\n",
              "      fill: #174EA6;\n",
              "    }\n",
              "\n",
              "    [theme=dark] .colab-df-convert {\n",
              "      background-color: #3B4455;\n",
              "      fill: #D2E3FC;\n",
              "    }\n",
              "\n",
              "    [theme=dark] .colab-df-convert:hover {\n",
              "      background-color: #434B5C;\n",
              "      box-shadow: 0px 1px 3px 1px rgba(0, 0, 0, 0.15);\n",
              "      filter: drop-shadow(0px 1px 2px rgba(0, 0, 0, 0.3));\n",
              "      fill: #FFFFFF;\n",
              "    }\n",
              "  </style>\n",
              "\n",
              "      <script>\n",
              "        const buttonEl =\n",
              "          document.querySelector('#df-65b1f938-177d-43ca-984a-d4449bb94d5c button.colab-df-convert');\n",
              "        buttonEl.style.display =\n",
              "          google.colab.kernel.accessAllowed ? 'block' : 'none';\n",
              "\n",
              "        async function convertToInteractive(key) {\n",
              "          const element = document.querySelector('#df-65b1f938-177d-43ca-984a-d4449bb94d5c');\n",
              "          const dataTable =\n",
              "            await google.colab.kernel.invokeFunction('convertToInteractive',\n",
              "                                                     [key], {});\n",
              "          if (!dataTable) return;\n",
              "\n",
              "          const docLinkHtml = 'Like what you see? Visit the ' +\n",
              "            '<a target=\"_blank\" href=https://colab.research.google.com/notebooks/data_table.ipynb>data table notebook</a>'\n",
              "            + ' to learn more about interactive tables.';\n",
              "          element.innerHTML = '';\n",
              "          dataTable['output_type'] = 'display_data';\n",
              "          await google.colab.output.renderOutput(dataTable, element);\n",
              "          const docLink = document.createElement('div');\n",
              "          docLink.innerHTML = docLinkHtml;\n",
              "          element.appendChild(docLink);\n",
              "        }\n",
              "      </script>\n",
              "    </div>\n",
              "  </div>\n",
              "  "
            ]
          },
          "metadata": {},
          "execution_count": 7
        }
      ]
    },
    {
      "cell_type": "code",
      "source": [
        "import numpy as np\n",
        "import matplotlib as mpl\n",
        "import matplotlib.pyplot as plt\n",
        "import seaborn as sns"
      ],
      "metadata": {
        "id": "Xm0M4k_SVHUj"
      },
      "execution_count": null,
      "outputs": []
    },
    {
      "cell_type": "code",
      "source": [
        "sns.catplot(x = '월',kind='count',data=data_df)"
      ],
      "metadata": {
        "colab": {
          "base_uri": "https://localhost:8080/",
          "height": 655
        },
        "id": "NswZQ8SSXQ3s",
        "outputId": "0af7d408-0ada-4c53-d407-a320f941b5cf"
      },
      "execution_count": null,
      "outputs": [
        {
          "output_type": "stream",
          "name": "stderr",
          "text": [
            "/usr/local/lib/python3.10/dist-packages/seaborn/axisgrid.py:118: UserWarning: Glyph 50900 (\\N{HANGUL SYLLABLE WEOL}) missing from current font.\n",
            "  self._figure.tight_layout(*args, **kwargs)\n"
          ]
        },
        {
          "output_type": "execute_result",
          "data": {
            "text/plain": [
              "<seaborn.axisgrid.FacetGrid at 0x7f589a8093c0>"
            ]
          },
          "metadata": {},
          "execution_count": 9
        },
        {
          "output_type": "stream",
          "name": "stderr",
          "text": [
            "/usr/local/lib/python3.10/dist-packages/IPython/core/events.py:89: UserWarning: Glyph 50900 (\\N{HANGUL SYLLABLE WEOL}) missing from current font.\n",
            "  func(*args, **kwargs)\n",
            "/usr/local/lib/python3.10/dist-packages/IPython/core/pylabtools.py:151: UserWarning: Glyph 50900 (\\N{HANGUL SYLLABLE WEOL}) missing from current font.\n",
            "  fig.canvas.print_figure(bytes_io, **kw)\n"
          ]
        },
        {
          "output_type": "display_data",
          "data": {
            "text/plain": [
              "<Figure size 500x500 with 1 Axes>"
            ],
            "image/png": "[encoded data removed]"
          },
          "metadata": {}
        }
      ]
    },
    {
      "cell_type": "code",
      "source": [
        "data_df['합 계'].hist()"
      ],
      "metadata": {
        "id": "gMOynWZBYnH-",
        "colab": {
          "base_uri": "https://localhost:8080/",
          "height": 448
        },
        "outputId": "dfec35dd-f42a-4006-ab11-4befdeeaf876"
      },
      "execution_count": null,
      "outputs": [
        {
          "output_type": "execute_result",
          "data": {
            "text/plain": [
              "<Axes: >"
            ]
          },
          "metadata": {},
          "execution_count": 10
        },
        {
          "output_type": "display_data",
          "data": {
            "text/plain": [
              "<Figure size 640x480 with 1 Axes>"
            ],
            "image/png": "[encoded data removed]"
          },
          "metadata": {}
        }
      ]
    }
  ]
}